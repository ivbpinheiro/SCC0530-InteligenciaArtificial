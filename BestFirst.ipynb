{
  "cells": [
    {
      "cell_type": "code",
      "execution_count": null,
      "metadata": {
        "id": "xLJzvGPjti4D"
      },
      "outputs": [],
      "source": [
        "import numpy as np\n",
        "import queue\n",
        "import time\n",
        "import math\n",
        "import matplotlib.pyplot as plt\n",
        "from sklearn.neighbors import NearestNeighbors\n",
        "import numpy as np\n",
        "from sklearn.neighbors import NearestNeighbors\n",
        "def get_knn_graph(num_points, k, seedwoow):\n",
        "  np.random.seed(seedwoow)\n",
        "  new_points = np.random.randint(0, 10000, size=(num_points, 2))\n",
        "\n",
        "  # Calculando os vizinhos mais próximos usando o algoritmo KNN\n",
        "  knn = NearestNeighbors(n_neighbors=k)\n",
        "  knn.fit(new_points)\n",
        "  distances, indices = knn.kneighbors(new_points)\n",
        "\n",
        "  # Criando o grafo no formato desejado\n",
        "  graph = {}\n",
        "\n",
        "  for i in range(len(new_points)):\n",
        "      vertex = tuple(new_points[i])\n",
        "      neighbors = []\n",
        "\n",
        "      for j in indices[i]:\n",
        "          if i != j:  # Evita criar uma aresta entre um vértice e ele mesmo\n",
        "              neighbors.append(tuple(new_points[j]))\n",
        "\n",
        "      graph[vertex] = neighbors\n",
        "\n",
        "  return graph"
      ]
    },
    {
      "cell_type": "code",
      "execution_count": null,
      "metadata": {
        "id": "CAWctSL9_0GR"
      },
      "outputs": [],
      "source": [
        "def plot_result(graph, path):\n",
        "    # Configuração do gráfico\n",
        "    plt.figure(figsize=(24, 18))\n",
        "    plt.axis('on')\n",
        "\n",
        "    # Desenho das arestas\n",
        "    for node, edges in graph.items():\n",
        "        for edge in edges:\n",
        "            plt.plot([node[0], edge[0]], [node[1], edge[1]], color='grey')\n",
        "\n",
        "    # Desenho dos pontos\n",
        "    for i in range(len(path) - 1):\n",
        "        node = path[i]\n",
        "        next_node = path[i + 1]\n",
        "        plt.scatter(*node, color='black')\n",
        "        plt.text(node[0], node[1] - 1, str(node), ha='center', color='black')\n",
        "        plt.plot([node[0], next_node[0]], [node[1], next_node[1]], color='red')\n",
        "\n",
        "    # Configurações do gráfico\n",
        "    for point in graph.keys():\n",
        "        if point not in path:\n",
        "            plt.scatter(*point, color='blue')\n",
        "\n",
        "    plt.title('KNN - Vértices Conectados')\n",
        "    plt.xlabel('Coordenada X')\n",
        "    plt.ylabel('Coordenada Y')\n",
        "    plt.grid(True)\n",
        "    # Exibição do gráfico\n",
        "    plt.show()"
      ]
    },
    {
      "cell_type": "code",
      "execution_count": null,
      "metadata": {
        "id": "wqp5Bakl8sYD"
      },
      "outputs": [],
      "source": [
        "def plot_graph(graph, points=None):\n",
        "    # Configuração do gráfico\n",
        "    plt.figure(figsize=(8, 6))\n",
        "    plt.axis('on')\n",
        "\n",
        "    # Desenho dos pontos\n",
        "    for point in graph.keys():\n",
        "        x, y = point\n",
        "        if points is not None and point in points:\n",
        "            plt.scatter(x, y, color='green')\n",
        "        else:\n",
        "            plt.scatter(x, y, color='blue')\n",
        "        # plt.text(x, y, f'({x}, {y})', fontsize=10, ha='center', va='bottom')\n",
        "\n",
        "    # Desenho das arestas\n",
        "    for node, edges in graph.items():\n",
        "        x1, y1 = node\n",
        "        for edge in edges:\n",
        "            x2, y2 = edge\n",
        "            plt.plot([x1, x2], [y1, y2], color='red')\n",
        "\n",
        "    # Configurações do gráfico\n",
        "    plt.title('KNN - Vértices Conectados')\n",
        "    plt.xlabel('Coordenada X')\n",
        "    plt.ylabel('Coordenada Y')\n",
        "    plt.grid(True)\n",
        "\n",
        "    # Exibição do gráfico\n",
        "    plt.show()"
      ]
    },
    {
      "cell_type": "code",
      "execution_count": null,
      "metadata": {
        "id": "BY51XbqAB7xM"
      },
      "outputs": [],
      "source": [
        "def calculate_path_distance(path):\n",
        "    total_distance = 0\n",
        "\n",
        "    for i in range(len(path) - 1):\n",
        "        current_point = path[i]\n",
        "        next_point = path[i + 1]\n",
        "\n",
        "        distance = math.sqrt((next_point[0] - current_point[0])**2 + (next_point[1] - current_point[1])**2)\n",
        "        total_distance += distance\n",
        "\n",
        "    return total_distance"
      ]
    },
    {
      "cell_type": "code",
      "execution_count": null,
      "metadata": {
        "id": "ud0LJilVGj9t"
      },
      "outputs": [],
      "source": [
        "import math\n",
        "from heapq import heappop, heappush\n",
        "\n",
        "def euclidean_distance(point1, point2):\n",
        "    x1, y1 = point1\n",
        "    x2, y2 = point2\n",
        "    return math.sqrt((x2 - x1)**2 + (y2 - y1)**2)\n",
        "\n",
        "def greedy_best_first_search(graph, start, goal):\n",
        "    visited = set()\n",
        "    queue = [(euclidean_distance(start, goal), start)]\n",
        "    parents = {}\n",
        "    \n",
        "    while queue:\n",
        "        _, current_node = heappop(queue)\n",
        "        \n",
        "        if current_node == goal:\n",
        "            # Reconstruir o caminho percorrido\n",
        "            path = []\n",
        "            while current_node != start:\n",
        "                path.append(current_node)\n",
        "                current_node = parents[current_node]\n",
        "            path.append(start)\n",
        "            path.reverse()\n",
        "            return path\n",
        "        \n",
        "        visited.add(current_node)\n",
        "        \n",
        "        for neighbor in graph[current_node]:\n",
        "            if neighbor not in visited:\n",
        "                priority = euclidean_distance(neighbor, goal)\n",
        "                heappush(queue, (priority, neighbor))\n",
        "                parents[neighbor] = current_node\n",
        "    \n",
        "    return None\n"
      ]
    },
    {
      "cell_type": "code",
      "execution_count": null,
      "metadata": {
        "id": "6J7Iw2NSNDTj"
      },
      "outputs": [],
      "source": [
        "graph = get_knn_graph(2000, 5, 13)"
      ]
    },
    {
      "cell_type": "code",
      "execution_count": null,
      "metadata": {
        "colab": {
          "base_uri": "https://localhost:8080/",
          "height": 564
        },
        "id": "31RFnqojMh0Z",
        "outputId": "0ac9b344-0135-449f-d32a-0888fc0e24b8"
      },
      "outputs": [],
      "source": [
        "plot_graph(graph)"
      ]
    },
    {
      "cell_type": "code",
      "execution_count": null,
      "metadata": {
        "colab": {
          "base_uri": "https://localhost:8080/",
          "height": 1000
        },
        "id": "vOCCSgETK0Al",
        "outputId": "748d1fa8-6143-4769-b9f3-6831cd1c0625"
      },
      "outputs": [],
      "source": [
        "start_node = (121, 9000)\n",
        "goal_node = (142, 440)\n",
        "start_time = time.time() #antes de executar a busca\n",
        "\n",
        "path = greedy_best_first_search(graph, start_node, goal_node)\n",
        "\n",
        "if path:\n",
        "  print(\"Caminho encontrado até o ponto de chegada:\")\n",
        "  print('Caminho resposta:', path)\n",
        "  print('Distância percorrida:', calculate_path_distance(path))\n",
        "  print('Tempo:', elapsed_time)\n",
        "  print('Nós:', len(path))\n",
        "  plot_result(graph, path)   \n",
        "else:\n",
        "  print(\"Não foi possível encontrar um caminho até o ponto de chegada.\")\n",
        "\n",
        "elapsed_time = time.time() - start_time # dps de executar"
      ]
    },
    {
      "cell_type": "code",
      "execution_count": null,
      "metadata": {
        "id": "UjCB1oPPPccM"
      },
      "outputs": [],
      "source": []
    }
  ],
  "metadata": {
    "colab": {
      "authorship_tag": "ABX9TyOVZJ5T8cc+cJpuuVpxQYZC",
      "provenance": []
    },
    "kernelspec": {
      "display_name": "Python 3",
      "name": "python3"
    },
    "language_info": {
      "codemirror_mode": {
        "name": "ipython",
        "version": 3
      },
      "file_extension": ".py",
      "mimetype": "text/x-python",
      "name": "python",
      "nbconvert_exporter": "python",
      "pygments_lexer": "ipython3",
      "version": "3.10.4"
    }
  },
  "nbformat": 4,
  "nbformat_minor": 0
}
