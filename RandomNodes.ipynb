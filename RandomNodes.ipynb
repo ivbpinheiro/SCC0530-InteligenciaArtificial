{
  "nbformat": 4,
  "nbformat_minor": 0,
  "metadata": {
    "colab": {
      "provenance": []
    },
    "kernelspec": {
      "name": "python3",
      "display_name": "Python 3"
    },
    "language_info": {
      "name": "python"
    }
  },
  "cells": [
    {
      "cell_type": "code",
      "execution_count": 1,
      "metadata": {
        "id": "xLJzvGPjti4D"
      },
      "outputs": [],
      "source": [
        "import numpy as np\n",
        "import queue\n",
        "import time\n",
        "import math\n",
        "import matplotlib.pyplot as plt\n",
        "from sklearn.neighbors import NearestNeighbors\n",
        "import numpy as np\n",
        "from sklearn.neighbors import NearestNeighbors\n",
        "def get_knn_graph(num_points, k, seedwoow):\n",
        "  np.random.seed(seedwoow)\n",
        "  new_points = np.random.randint(0, 10000, size=(num_points, 2))\n",
        "\n",
        "  # Calculando os vizinhos mais próximos usando o algoritmo KNN\n",
        "  knn = NearestNeighbors(n_neighbors=k)\n",
        "  knn.fit(new_points)\n",
        "  distances, indices = knn.kneighbors(new_points)\n",
        "\n",
        "  # Criando o grafo no formato desejado\n",
        "  graph = {}\n",
        "\n",
        "  for i in range(len(new_points)):\n",
        "      vertex = tuple(new_points[i])\n",
        "      neighbors = []\n",
        "\n",
        "      for j in indices[i]:\n",
        "          if i != j:  # Evita criar uma aresta entre um vértice e ele mesmo\n",
        "              neighbors.append(tuple(new_points[j]))\n",
        "\n",
        "      graph[vertex] = neighbors\n",
        "\n",
        "  return graph"
      ]
    },
    {
      "cell_type": "code",
      "source": [
        "def plot_graph(graph, points=None):\n",
        "    # Configuração do gráfico\n",
        "    plt.figure(figsize=(16, 12))\n",
        "    plt.axis('on')\n",
        "\n",
        "    # Desenho dos pontos\n",
        "    for point in graph.keys():\n",
        "        x, y = point\n",
        "        if points is not None and point in points:\n",
        "            plt.scatter(x, y, color='green')\n",
        "        else:\n",
        "            plt.scatter(x, y, color='blue')\n",
        "        #plt.text(x, y, f'({x}, {y})', fontsize=10, ha='center', va='bottom')\n",
        "\n",
        "    # Desenho das arestas\n",
        "    for node, edges in graph.items():\n",
        "        x1, y1 = node\n",
        "        for edge in edges:\n",
        "            x2, y2 = edge\n",
        "            plt.plot([x1, x2], [y1, y2], color='red')\n",
        "\n",
        "    # Configurações do gráfico\n",
        "    plt.title('KNN - Vértices Conectados')\n",
        "    plt.xlabel('Coordenada X')\n",
        "    plt.ylabel('Coordenada Y')\n",
        "    plt.grid(True)\n",
        "\n",
        "    # Exibição do gráfico\n",
        "    plt.show()"
      ],
      "metadata": {
        "id": "wqp5Bakl8sYD"
      },
      "execution_count": 2,
      "outputs": []
    },
    {
      "cell_type": "code",
      "source": [
        "import matplotlib.pyplot as plt\n",
        "\n",
        "def plot_result_new(graph, path, all_paths):\n",
        "    # Configuração do gráfico\n",
        "    plt.figure(figsize=(18, 12))\n",
        "    plt.axis('on')\n",
        "\n",
        "    # Desenho das arestas\n",
        "    for node, edges in graph.items():\n",
        "        for edge in edges:\n",
        "            plt.plot([node[0], edge[0]], [node[1], edge[1]], color='grey')\n",
        "\n",
        "    # Desenho dos pontos\n",
        "    for point in graph.keys():\n",
        "        if point in all_paths:\n",
        "            plt.scatter(*point, color='blue')\n",
        "        else:\n",
        "            plt.scatter(*point, color='red')\n",
        "\n",
        "    # # Desenho das arestas dos caminhos\n",
        "    # for node, edges in all_paths.items():\n",
        "    #     for edge in edges:\n",
        "    #         plt.plot([node[0], edge[0]], [node[1], edge[1]], color='yellow')\n",
        "\n",
        "    # Configurações do gráfico\n",
        "    for i in range(len(path) - 1):\n",
        "        node = path[i]\n",
        "        next_node = path[i + 1]\n",
        "        plt.scatter(*node, color='black')\n",
        "        plt.text(node[0], node[1] - 1, str(node), ha='center', color='black')\n",
        "        plt.plot([node[0], next_node[0]], [node[1], next_node[1]], color='red', linewidth=5.0)\n",
        "\n",
        "    plt.title('KNN - Vértices Conectados')\n",
        "    plt.xlabel('Coordenada X')\n",
        "    plt.ylabel('Coordenada Y')\n",
        "    plt.grid(True)\n",
        "    # Exibição do gráfico\n",
        "    plt.show()\n"
      ],
      "metadata": {
        "id": "gxS__zZmtFyG"
      },
      "execution_count": 3,
      "outputs": []
    },
    {
      "cell_type": "code",
      "source": [
        "from math import sqrt\n",
        "from heapq import heappop, heappush\n",
        "\n",
        "def greedy_best_first_search(graph, start, goal):\n",
        "    def heuristic(node):\n",
        "        return sqrt((node[0] - goal[0]) ** 2 + (node[1] - goal[1]) ** 2)\n",
        "    \n",
        "    frontier = [(heuristic(start), start)]\n",
        "    visited = []\n",
        "    paths = {start: [start]}\n",
        "    \n",
        "    while frontier:        \n",
        "        result_list = []\n",
        "        for _, item in frontier:\n",
        "            result_dict = {item: []}\n",
        "            \n",
        "            for _, neighbor in frontier:\n",
        "                if neighbor != item:\n",
        "                    result_dict[item].append(neighbor)\n",
        "            \n",
        "            result_list.append(result_dict)\n",
        "\n",
        "        _, current_node = heappop(frontier)\n",
        "        \n",
        "        if current_node == goal:            \n",
        "            return paths[current_node], visited, paths, result_list\n",
        "        \n",
        "        visited.append(current_node)\n",
        "        \n",
        "        for neighbor in graph[current_node]:\n",
        "            if neighbor not in paths:\n",
        "                new_path = paths[current_node] + [neighbor]\n",
        "                paths[neighbor] = new_path\n",
        "                heappush(frontier, (heuristic(neighbor), neighbor))\n",
        "    \n",
        "    return None, visited, paths"
      ],
      "metadata": {
        "id": "sKCMpALYEGEl"
      },
      "execution_count": 30,
      "outputs": []
    },
    {
      "cell_type": "code",
      "source": [
        "graph = get_knn_graph(2000, 4, 13)"
      ],
      "metadata": {
        "id": "EnnnBg4iH9U0"
      },
      "execution_count": null,
      "outputs": []
    },
    {
      "cell_type": "code",
      "source": [
        "import random\n",
        "\n",
        "graph = get_knn_graph(2000, 8, 13)\n",
        "\n",
        "keys = list(graph.keys())\n",
        "random_keys = random.sample(keys, 2)\n",
        "# start_node = (499, 9046)\n",
        "# goal_node = (7341, 5929)\n",
        "print(random_keys)\n",
        "\n",
        "start_node = random_keys[0]\n",
        "\n",
        "goal_node = random_keys[1]\n",
        "\n",
        "path, visited, all_paths, result_list = greedy_best_first_search(graph, start_node, goal_node)\n",
        "\n",
        "\n"
      ],
      "metadata": {
        "colab": {
          "base_uri": "https://localhost:8080/"
        },
        "id": "RkoiegS8BoGW",
        "outputId": "c03b0fa4-f097-472d-f00e-60ba02a08f54"
      },
      "execution_count": 261,
      "outputs": [
        {
          "output_type": "stream",
          "name": "stdout",
          "text": [
            "[(3847, 9224), (9829, 4439)]\n"
          ]
        }
      ]
    }
  ]
}